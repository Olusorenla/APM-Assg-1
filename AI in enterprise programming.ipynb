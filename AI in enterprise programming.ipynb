{
 "cells": [
  {
   "cell_type": "code",
   "execution_count": 2,
   "id": "46cf39e8",
   "metadata": {},
   "outputs": [
    {
     "name": "stdout",
     "output_type": "stream",
     "text": [
      "Enter a number: 21\n",
      "Square of 21 is 441\n",
      "Enter the first number: 3.2\n",
      "Enter the second number: 3.2\n",
      "Sum of 3.2 and 3.2 is 6.4\n",
      "Enter a list of numbers (separated by spaces): 1 3 5 7 9 11 13 15 17 19\n",
      "Maximum number in the list is 19.0\n"
     ]
    }
   ],
   "source": [
    "# Key Programming Activities Program\n",
    "\n",
    "# Function to calculate the square of a number\n",
    "def calculate_square(number):\n",
    "    return number ** 2\n",
    "\n",
    "# Function to calculate the sum of two numbers\n",
    "def calculate_sum(num1, num2):\n",
    "    return num1 + num2\n",
    "\n",
    "# Function to find the maximum number from a list\n",
    "def find_maximum(numbers):\n",
    "    return max(numbers)\n",
    "\n",
    "# Main program\n",
    "if __name__ == \"__main__\":\n",
    "    # Taking user input for a number\n",
    "    number = int(input(\"Enter a number: \"))\n",
    "\n",
    "    # Calculating the square of the number\n",
    "    square = calculate_square(number)\n",
    "    print(\"Square of\", number, \"is\", square)\n",
    "\n",
    "    # Taking user input for two numbers\n",
    "    num1 = float(input(\"Enter the first number: \"))\n",
    "    num2 = float(input(\"Enter the second number: \"))\n",
    "\n",
    "    # Calculating the sum of the two numbers\n",
    "    sum_result = calculate_sum(num1, num2)\n",
    "    print(\"Sum of\", num1, \"and\", num2, \"is\", sum_result)\n",
    "\n",
    "    # Taking user input for a list of numbers\n",
    "    numbers = input(\"Enter a list of numbers (separated by spaces): \").split()\n",
    "    numbers = [float(num) for num in numbers]\n",
    "\n",
    "    # Finding the maximum number from the list\n",
    "    maximum = find_maximum(numbers)\n",
    "    print(\"Maximum number in the list is\", maximum)\n"
   ]
  },
  {
   "cell_type": "code",
   "execution_count": null,
   "id": "844c0581",
   "metadata": {},
   "outputs": [],
   "source": []
  }
 ],
 "metadata": {
  "kernelspec": {
   "display_name": "Python 3 (ipykernel)",
   "language": "python",
   "name": "python3"
  },
  "language_info": {
   "codemirror_mode": {
    "name": "ipython",
    "version": 3
   },
   "file_extension": ".py",
   "mimetype": "text/x-python",
   "name": "python",
   "nbconvert_exporter": "python",
   "pygments_lexer": "ipython3",
   "version": "3.9.13"
  }
 },
 "nbformat": 4,
 "nbformat_minor": 5
}
